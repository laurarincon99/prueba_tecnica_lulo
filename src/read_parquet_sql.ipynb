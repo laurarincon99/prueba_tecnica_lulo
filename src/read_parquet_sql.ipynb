{
 "cells": [
  {
   "cell_type": "markdown",
   "metadata": {},
   "source": [
    "# Leer los archivos Parquet\n"
   ]
  },
  {
   "cell_type": "code",
   "execution_count": 1,
   "metadata": {},
   "outputs": [],
   "source": [
    "import pandas as pd\n",
    "import sqlite3"
   ]
  },
  {
   "cell_type": "code",
   "execution_count": 2,
   "metadata": {},
   "outputs": [],
   "source": [
    "def save_parquet_sqlite(df_name,table_name):\n",
    "    try:\n",
    "        conn = sqlite3.connect('../db/db_prueba_tecnica.db', timeout=5)\n",
    "        df = pd.read_parquet(f'../data/{df_name}.parquet')\n",
    "        df.to_sql(table_name, conn, if_exists='append', index=False)\n",
    "        conn.commit()\n",
    "        print(\"Datos almacenados correctamente en la base de datos SQLite.\")\n",
    "    except sqlite3.OperationalError as e:\n",
    "        print(\"Error de operación:\", e)\n",
    "    finally:\n",
    "        if conn:\n",
    "            conn.close()"
   ]
  },
  {
   "cell_type": "code",
   "execution_count": 3,
   "metadata": {},
   "outputs": [
    {
     "name": "stdout",
     "output_type": "stream",
     "text": [
      "Datos almacenados correctamente en la base de datos SQLite.\n",
      "Datos almacenados correctamente en la base de datos SQLite.\n",
      "Datos almacenados correctamente en la base de datos SQLite.\n",
      "Datos almacenados correctamente en la base de datos SQLite.\n",
      "Datos almacenados correctamente en la base de datos SQLite.\n",
      "Datos almacenados correctamente en la base de datos SQLite.\n",
      "Datos almacenados correctamente en la base de datos SQLite.\n",
      "Datos almacenados correctamente en la base de datos SQLite.\n"
     ]
    }
   ],
   "source": [
    "save_parquet_sqlite('episodes_df','T_Episodes')\n",
    "save_parquet_sqlite('links_episodes_df','T_Links_Episodes')\n",
    "save_parquet_sqlite('genres_df','T_Genres')\n",
    "save_parquet_sqlite('days_df','T_Days')\n",
    "save_parquet_sqlite('webChannel_df','T_WebChannel')\n",
    "save_parquet_sqlite('image_df','T_Image')\n",
    "save_parquet_sqlite('externals_df','T_Externals')\n",
    "save_parquet_sqlite('links_show_df','T_Links_Show')\n"
   ]
  },
  {
   "cell_type": "code",
   "execution_count": 5,
   "metadata": {},
   "outputs": [
    {
     "name": "stdout",
     "output_type": "stream",
     "text": [
      "Datos almacenados correctamente en la base de datos SQLite.\n"
     ]
    }
   ],
   "source": [
    "save_parquet_sqlite('embedded_df','T_Embedded')"
   ]
  },
  {
   "cell_type": "markdown",
   "metadata": {},
   "source": [
    "## Consultas de agregación a la base de datos\n",
    "\n",
    "A continuación puede observar la consultas de agregación a la base de datos desde pythton, adicional en la carpeta db puede observar el scrip que le facilitará realizar estar consultas directamente en la base de datos sqlite3\n",
    "\n",
    "1. Runtime promedio (averageRuntime)."
   ]
  },
  {
   "cell_type": "code",
   "execution_count": 7,
   "metadata": {},
   "outputs": [],
   "source": [
    "def query_sqlite (query):\n",
    "    with sqlite3.connect('../db/db_prueba_tecnica.db') as conn:\n",
    "        cursor = conn.cursor()\n",
    "        cursor.execute(query)\n",
    "        resultados = cursor.fetchall()\n",
    "        for fila in resultados:\n",
    "            print(fila)   "
   ]
  },
  {
   "cell_type": "code",
   "execution_count": 8,
   "metadata": {},
   "outputs": [
    {
     "name": "stdout",
     "output_type": "stream",
     "text": [
      "(43.78011233617641,)\n"
     ]
    }
   ],
   "source": [
    "query_sqlite('SELECT AVG(runtime) as Average_Runtime FROM T_Episodes')"
   ]
  },
  {
   "cell_type": "code",
   "execution_count": 9,
   "metadata": {},
   "outputs": [
    {
     "name": "stdout",
     "output_type": "stream",
     "text": [
      "(44.000832119825255,)\n"
     ]
    }
   ],
   "source": [
    "query_sqlite('SELECT AVG(averageRuntime) as Average_averageRuntime FROM T_Embedded')"
   ]
  },
  {
   "cell_type": "markdown",
   "metadata": {},
   "source": [
    "2. Conteo de shows de tv por género."
   ]
  },
  {
   "cell_type": "code",
   "execution_count": 10,
   "metadata": {},
   "outputs": [
    {
     "name": "stdout",
     "output_type": "stream",
     "text": [
      "('Action', 361)\n",
      "('Adult', 6)\n",
      "('Adventure', 385)\n",
      "('Anime', 236)\n",
      "('Children', 184)\n",
      "('Comedy', 725)\n",
      "('Crime', 231)\n",
      "('DIY', 46)\n",
      "('Drama', 1511)\n",
      "('Family', 160)\n",
      "('Fantasy', 515)\n",
      "('Food', 110)\n",
      "('History', 114)\n",
      "('Horror', 71)\n",
      "('Legal', 18)\n",
      "('Medical', 64)\n",
      "('Music', 110)\n",
      "('Mystery', 236)\n",
      "('Nature', 52)\n",
      "('Romance', 964)\n",
      "('Science-Fiction', 67)\n",
      "('Sports', 88)\n",
      "('Supernatural', 53)\n",
      "('Thriller', 197)\n",
      "('Travel', 96)\n",
      "('War', 82)\n"
     ]
    }
   ],
   "source": [
    "query_sqlite('SELECT genres, COUNT(DISTINCT(id_episodes)) as Number_shows FROM T_Genres GROUP BY genres')"
   ]
  },
  {
   "cell_type": "markdown",
   "metadata": {},
   "source": [
    "3. Listar los dominios únicos (web) del sitio oficial de los shows."
   ]
  },
  {
   "cell_type": "code",
   "execution_count": 11,
   "metadata": {},
   "outputs": [
    {
     "name": "stdout",
     "output_type": "stream",
     "text": [
      "('http://islnd.tv',)\n",
      "('http://www.wowpresentsplus.com',)\n",
      "('https://abcnews.go.com/Live',)\n",
      "('https://allblk.tv/',)\n",
      "('https://auvio.rtbf.be/',)\n",
      "('https://corporate.catchplay.com/',)\n",
      "('https://disneynow.com/',)\n",
      "('https://dr.dk/drtv',)\n",
      "('https://edition.cnn.com/?hpt=header_edition-picker',)\n",
      "('https://filmrise.com/',)\n",
      "('https://gem.cbc.ca/',)\n",
      "('https://hd.kinopoisk.ru/',)\n",
      "('https://iview.abc.net.au/',)\n",
      "('https://kion.ru/',)\n",
      "('https://magnolia.com/network/',)\n",
      "('https://premier.one/',)\n",
      "('https://roosterteeth.com/',)\n",
      "('https://rtl.hu/rtlplusz',)\n",
      "('https://therokuchannel.roku.com',)\n",
      "('https://tubitv.com/',)\n",
      "('https://tv.apple.com/',)\n",
      "('https://tv.naver.com/',)\n",
      "('https://tv.nrk.no',)\n",
      "('https://v.qq.com/',)\n",
      "('https://ver.movistarplus.es/',)\n",
      "('https://viaplay.com',)\n",
      "('https://vix.com/',)\n",
      "('https://vixplus.com/plus',)\n",
      "('https://vk.com/video',)\n",
      "('https://vk.com/video/@vkvideo',)\n",
      "('https://vod.tvp.pl/',)\n",
      "('https://w.mgtv.com/',)\n",
      "('https://watcha.com/',)\n",
      "('https://wetv.vip/',)\n",
      "('https://www.amazon.co.uk/ftu/home?ref=d6k_applink_bb_dls&dplnkId=cf2c8abd-2308-47e3-947b-b9f7e981c117',)\n",
      "('https://www.amazon.com/adlp/freevee-about',)\n",
      "('https://www.amazon.in/minitv',)\n",
      "('https://www.angel.com/',)\n",
      "('https://www.atresplayer.com/',)\n",
      "('https://www.bbc.co.uk/iplayer',)\n",
      "('https://www.bet.plus/',)\n",
      "('https://www.blutv.com/',)\n",
      "('https://www.britbox.com/',)\n",
      "('https://www.channel4.com/',)\n",
      "('https://www.crave.ca/en',)\n",
      "('https://www.crunchyroll.com/',)\n",
      "('https://www.dailywire.com/watch',)\n",
      "('https://www.discoveryplus.com/',)\n",
      "('https://www.disneyplus.com/',)\n",
      "('https://www.france.tv/enfants/',)\n",
      "('https://www.heavenly.tv/en',)\n",
      "('https://www.hulu.com/',)\n",
      "('https://www.iq.com/',)\n",
      "('https://www.itvx.com/',)\n",
      "('https://www.ivi.ru/',)\n",
      "('https://www.jiocinema.com/',)\n",
      "('https://www.knowledgekids.ca/',)\n",
      "('https://www.linetv.tw/',)\n",
      "('https://www.max.com/',)\n",
      "('https://www.maximumeffortchannel.com/',)\n",
      "('https://www.netflix.com/',)\n",
      "('https://www.newsmaxtv.com/n2',)\n",
      "('https://www.nowthatstv.net',)\n",
      "('https://www.paramountplus.com/',)\n",
      "('https://www.pbs.org/',)\n",
      "('https://www.peacocktv.com/',)\n",
      "('https://www.primevideo.com',)\n",
      "('https://www.pureflix.com/discover-coming-soon?utm_source=google&utm_campaign=gads_search_brand&utm_medium=cpc&utm_term=pure%20flix&hsa_ver=3&hsa_grp=68693273966&hsa_acc=9355037628&hsa_ad=676826129706&hsa_src=g&hsa_tgt=kwd-325450860434&hsa_kw=pure%20f',)\n",
      "('https://www.sbs.com.au/ondemand/',)\n",
      "('https://www.sho.com/on-demand/',)\n",
      "('https://www.showmax.com/',)\n",
      "('https://www.shudder.com/',)\n",
      "('https://www.sonyliv.com/',)\n",
      "('https://www.srf.ch/play/tv',)\n",
      "('https://www.stan.com.au/',)\n",
      "('https://www.sundancenow.com/',)\n",
      "('https://www.svtplay.se/',)\n",
      "('https://www.swearnet.com',)\n",
      "('https://www.tabii.com/en',)\n",
      "('https://www.tbnplus.com/home',)\n",
      "('https://www.thezeusnetwork.com/',)\n",
      "('https://www.trueid.net/watch/',)\n",
      "('https://www.tving.com/onboarding',)\n",
      "('https://www.twitch.tv/',)\n",
      "('https://www.videoland.com/',)\n",
      "('https://www.vlive.tv/home',)\n",
      "('https://www.wavve.com/',)\n",
      "('https://www.youtube.com',)\n",
      "('https://www.zdf.de/',)\n"
     ]
    }
   ],
   "source": [
    "query_sqlite('SELECT DISTINCT(officialSite) FROM T_WebChannel WHERE officialSite IS NOT NULL ORDER BY officialSite')"
   ]
  }
 ],
 "metadata": {
  "kernelspec": {
   "display_name": "Python 3",
   "language": "python",
   "name": "python3"
  },
  "language_info": {
   "codemirror_mode": {
    "name": "ipython",
    "version": 3
   },
   "file_extension": ".py",
   "mimetype": "text/x-python",
   "name": "python",
   "nbconvert_exporter": "python",
   "pygments_lexer": "ipython3",
   "version": "3.9.5"
  }
 },
 "nbformat": 4,
 "nbformat_minor": 2
}
