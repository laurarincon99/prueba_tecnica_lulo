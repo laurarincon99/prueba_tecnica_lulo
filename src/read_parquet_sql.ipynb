{
 "cells": [
  {
   "cell_type": "markdown",
   "metadata": {},
   "source": [
    "# Leer los archivos Parquet\n"
   ]
  },
  {
   "cell_type": "code",
   "execution_count": 1,
   "metadata": {},
   "outputs": [],
   "source": [
    "import pandas as pd\n",
    "import sqlite3"
   ]
  },
  {
   "cell_type": "code",
   "execution_count": 2,
   "metadata": {},
   "outputs": [],
   "source": [
    "def save_parquet_sqlite(df_name,table_name):\n",
    "    try:\n",
    "        conn = sqlite3.connect('../db/db_prueba_tecnica.db', timeout=5)\n",
    "        df = pd.read_parquet(f'../data/{df_name}.parquet')\n",
    "        df.to_sql(table_name, conn, if_exists='append', index=False)\n",
    "        conn.commit()\n",
    "        print(\"Datos almacenados correctamente en la base de datos SQLite.\")\n",
    "    except sqlite3.OperationalError as e:\n",
    "        print(\"Error de operación:\", e)\n",
    "    finally:\n",
    "        if conn:\n",
    "            conn.close()"
   ]
  },
  {
   "cell_type": "code",
   "execution_count": 3,
   "metadata": {},
   "outputs": [
    {
     "name": "stdout",
     "output_type": "stream",
     "text": [
      "Datos almacenados correctamente en la base de datos SQLite.\n",
      "Datos almacenados correctamente en la base de datos SQLite.\n",
      "Datos almacenados correctamente en la base de datos SQLite.\n",
      "Datos almacenados correctamente en la base de datos SQLite.\n",
      "Datos almacenados correctamente en la base de datos SQLite.\n",
      "Datos almacenados correctamente en la base de datos SQLite.\n",
      "Datos almacenados correctamente en la base de datos SQLite.\n",
      "Datos almacenados correctamente en la base de datos SQLite.\n"
     ]
    }
   ],
   "source": [
    "save_parquet_sqlite('episodes_df','T_Episodes')\n",
    "save_parquet_sqlite('links_episodes_df','T_Links_Episodes')\n",
    "save_parquet_sqlite('genres_df','T_Genres')\n",
    "save_parquet_sqlite('days_df','T_Days')\n",
    "save_parquet_sqlite('webChannel_df','T_WebChannel')\n",
    "save_parquet_sqlite('image_df','T_Image')\n",
    "save_parquet_sqlite('externals_df','T_Externals')\n",
    "save_parquet_sqlite('links_show_df','T_Links_Show')\n"
   ]
  }
 ],
 "metadata": {
  "kernelspec": {
   "display_name": "Python 3",
   "language": "python",
   "name": "python3"
  },
  "language_info": {
   "codemirror_mode": {
    "name": "ipython",
    "version": 3
   },
   "file_extension": ".py",
   "mimetype": "text/x-python",
   "name": "python",
   "nbconvert_exporter": "python",
   "pygments_lexer": "ipython3",
   "version": "3.9.5"
  }
 },
 "nbformat": 4,
 "nbformat_minor": 2
}
