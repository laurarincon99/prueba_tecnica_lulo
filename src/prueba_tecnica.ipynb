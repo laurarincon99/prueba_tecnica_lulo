{
 "cells": [
  {
   "cell_type": "markdown",
   "metadata": {},
   "source": [
    "# Prueba Técnica\n",
    "\n",
    "### Laura Camila Rincón Manrique"
   ]
  },
  {
   "cell_type": "code",
   "execution_count": null,
   "metadata": {},
   "outputs": [
    {
     "name": "stderr",
     "output_type": "stream",
     "text": [
      "WARNING: Ignoring invalid distribution -andas (c:\\users\\camil\\appdata\\local\\programs\\python\\python39\\lib\\site-packages)\n",
      "ERROR: Could not find a version that satisfies the requirement json (from versions: none)\n",
      "ERROR: No matching distribution found for json\n",
      "\n",
      "[notice] A new release of pip is available: 23.1.2 -> 24.3.1\n",
      "[notice] To update, run: python.exe -m pip install --upgrade pip\n"
     ]
    }
   ],
   "source": [
    "#pip install requests\n",
    "#!pip install json"
   ]
  },
  {
   "cell_type": "code",
   "execution_count": 1,
   "metadata": {},
   "outputs": [],
   "source": [
    "import requests\n",
    "import json\n",
    "from datetime import datetime, timedelta\n",
    "import os"
   ]
  },
  {
   "cell_type": "code",
   "execution_count": 2,
   "metadata": {},
   "outputs": [],
   "source": [
    "def Get_data_dates(url,date):\n",
    "    url = f\"{url}{date}\"\n",
    "    api_response = requests.get(url)\n",
    "    if api_response.status_code == 200:\n",
    "        return api_response.json()\n",
    "    else:\n",
    "        print(f\"Error al obtener los datos para la fecha {date}, Error API: {api_response.status_code}\")\n",
    "        return None"
   ]
  },
  {
   "cell_type": "code",
   "execution_count": 3,
   "metadata": {},
   "outputs": [],
   "source": [
    "def Verify_file_exist(path_file):   \n",
    "    if os.path.exists(path_file):\n",
    "        os.remove(path_file)\n",
    "        print(f\"The file {path_file} was delete.\")\n",
    "    else:\n",
    "        print(f\"The file {path_file} doesn't exist and It is goint to create.\")"
   ]
  },
  {
   "cell_type": "code",
   "execution_count": 4,
   "metadata": {},
   "outputs": [],
   "source": [
    "def Save_json(data,path_file):\n",
    "    with open(path_file, 'w') as archivo:\n",
    "        json.dump(data, archivo, indent=4)\n",
    "    print(f\"Datos almacenados en {path_file}\")"
   ]
  },
  {
   "cell_type": "code",
   "execution_count": 5,
   "metadata": {},
   "outputs": [
    {
     "name": "stdout",
     "output_type": "stream",
     "text": [
      "Getting the data to: 2024-01-01\n",
      "The file C:/Users/camil/Desktop/prueba_tecnica_lulo/json/data_2024-01-01.json was delete.\n",
      "Datos almacenados en C:/Users/camil/Desktop/prueba_tecnica_lulo/json/data_2024-01-01.json\n",
      "Getting the data to: 2024-01-02\n",
      "The file C:/Users/camil/Desktop/prueba_tecnica_lulo/json/data_2024-01-02.json was delete.\n",
      "Datos almacenados en C:/Users/camil/Desktop/prueba_tecnica_lulo/json/data_2024-01-02.json\n",
      "Getting the data to: 2024-01-03\n",
      "The file C:/Users/camil/Desktop/prueba_tecnica_lulo/json/data_2024-01-03.json was delete.\n",
      "Datos almacenados en C:/Users/camil/Desktop/prueba_tecnica_lulo/json/data_2024-01-03.json\n",
      "Getting the data to: 2024-01-04\n",
      "The file C:/Users/camil/Desktop/prueba_tecnica_lulo/json/data_2024-01-04.json was delete.\n",
      "Datos almacenados en C:/Users/camil/Desktop/prueba_tecnica_lulo/json/data_2024-01-04.json\n",
      "Getting the data to: 2024-01-05\n",
      "The file C:/Users/camil/Desktop/prueba_tecnica_lulo/json/data_2024-01-05.json was delete.\n",
      "Datos almacenados en C:/Users/camil/Desktop/prueba_tecnica_lulo/json/data_2024-01-05.json\n",
      "Getting the data to: 2024-01-06\n",
      "The file C:/Users/camil/Desktop/prueba_tecnica_lulo/json/data_2024-01-06.json was delete.\n",
      "Datos almacenados en C:/Users/camil/Desktop/prueba_tecnica_lulo/json/data_2024-01-06.json\n",
      "Getting the data to: 2024-01-07\n",
      "The file C:/Users/camil/Desktop/prueba_tecnica_lulo/json/data_2024-01-07.json was delete.\n",
      "Datos almacenados en C:/Users/camil/Desktop/prueba_tecnica_lulo/json/data_2024-01-07.json\n",
      "Getting the data to: 2024-01-08\n",
      "The file C:/Users/camil/Desktop/prueba_tecnica_lulo/json/data_2024-01-08.json was delete.\n",
      "Datos almacenados en C:/Users/camil/Desktop/prueba_tecnica_lulo/json/data_2024-01-08.json\n",
      "Getting the data to: 2024-01-09\n",
      "The file C:/Users/camil/Desktop/prueba_tecnica_lulo/json/data_2024-01-09.json was delete.\n",
      "Datos almacenados en C:/Users/camil/Desktop/prueba_tecnica_lulo/json/data_2024-01-09.json\n",
      "Getting the data to: 2024-01-10\n",
      "The file C:/Users/camil/Desktop/prueba_tecnica_lulo/json/data_2024-01-10.json was delete.\n",
      "Datos almacenados en C:/Users/camil/Desktop/prueba_tecnica_lulo/json/data_2024-01-10.json\n",
      "Getting the data to: 2024-01-11\n",
      "The file C:/Users/camil/Desktop/prueba_tecnica_lulo/json/data_2024-01-11.json was delete.\n",
      "Datos almacenados en C:/Users/camil/Desktop/prueba_tecnica_lulo/json/data_2024-01-11.json\n",
      "Getting the data to: 2024-01-12\n",
      "The file C:/Users/camil/Desktop/prueba_tecnica_lulo/json/data_2024-01-12.json was delete.\n",
      "Datos almacenados en C:/Users/camil/Desktop/prueba_tecnica_lulo/json/data_2024-01-12.json\n",
      "Getting the data to: 2024-01-13\n",
      "The file C:/Users/camil/Desktop/prueba_tecnica_lulo/json/data_2024-01-13.json was delete.\n",
      "Datos almacenados en C:/Users/camil/Desktop/prueba_tecnica_lulo/json/data_2024-01-13.json\n",
      "Getting the data to: 2024-01-14\n",
      "The file C:/Users/camil/Desktop/prueba_tecnica_lulo/json/data_2024-01-14.json was delete.\n",
      "Datos almacenados en C:/Users/camil/Desktop/prueba_tecnica_lulo/json/data_2024-01-14.json\n",
      "Getting the data to: 2024-01-15\n",
      "The file C:/Users/camil/Desktop/prueba_tecnica_lulo/json/data_2024-01-15.json was delete.\n",
      "Datos almacenados en C:/Users/camil/Desktop/prueba_tecnica_lulo/json/data_2024-01-15.json\n",
      "Getting the data to: 2024-01-16\n",
      "The file C:/Users/camil/Desktop/prueba_tecnica_lulo/json/data_2024-01-16.json was delete.\n",
      "Datos almacenados en C:/Users/camil/Desktop/prueba_tecnica_lulo/json/data_2024-01-16.json\n",
      "Getting the data to: 2024-01-17\n",
      "The file C:/Users/camil/Desktop/prueba_tecnica_lulo/json/data_2024-01-17.json was delete.\n",
      "Datos almacenados en C:/Users/camil/Desktop/prueba_tecnica_lulo/json/data_2024-01-17.json\n",
      "Getting the data to: 2024-01-18\n",
      "The file C:/Users/camil/Desktop/prueba_tecnica_lulo/json/data_2024-01-18.json was delete.\n",
      "Datos almacenados en C:/Users/camil/Desktop/prueba_tecnica_lulo/json/data_2024-01-18.json\n",
      "Getting the data to: 2024-01-19\n",
      "The file C:/Users/camil/Desktop/prueba_tecnica_lulo/json/data_2024-01-19.json was delete.\n",
      "Datos almacenados en C:/Users/camil/Desktop/prueba_tecnica_lulo/json/data_2024-01-19.json\n",
      "Getting the data to: 2024-01-20\n",
      "The file C:/Users/camil/Desktop/prueba_tecnica_lulo/json/data_2024-01-20.json was delete.\n",
      "Datos almacenados en C:/Users/camil/Desktop/prueba_tecnica_lulo/json/data_2024-01-20.json\n",
      "Getting the data to: 2024-01-21\n",
      "The file C:/Users/camil/Desktop/prueba_tecnica_lulo/json/data_2024-01-21.json was delete.\n",
      "Datos almacenados en C:/Users/camil/Desktop/prueba_tecnica_lulo/json/data_2024-01-21.json\n",
      "Getting the data to: 2024-01-22\n",
      "The file C:/Users/camil/Desktop/prueba_tecnica_lulo/json/data_2024-01-22.json was delete.\n",
      "Datos almacenados en C:/Users/camil/Desktop/prueba_tecnica_lulo/json/data_2024-01-22.json\n",
      "Getting the data to: 2024-01-23\n",
      "The file C:/Users/camil/Desktop/prueba_tecnica_lulo/json/data_2024-01-23.json was delete.\n",
      "Datos almacenados en C:/Users/camil/Desktop/prueba_tecnica_lulo/json/data_2024-01-23.json\n",
      "Getting the data to: 2024-01-24\n",
      "The file C:/Users/camil/Desktop/prueba_tecnica_lulo/json/data_2024-01-24.json was delete.\n",
      "Datos almacenados en C:/Users/camil/Desktop/prueba_tecnica_lulo/json/data_2024-01-24.json\n",
      "Getting the data to: 2024-01-25\n",
      "The file C:/Users/camil/Desktop/prueba_tecnica_lulo/json/data_2024-01-25.json was delete.\n",
      "Datos almacenados en C:/Users/camil/Desktop/prueba_tecnica_lulo/json/data_2024-01-25.json\n",
      "Getting the data to: 2024-01-26\n",
      "The file C:/Users/camil/Desktop/prueba_tecnica_lulo/json/data_2024-01-26.json was delete.\n",
      "Datos almacenados en C:/Users/camil/Desktop/prueba_tecnica_lulo/json/data_2024-01-26.json\n",
      "Getting the data to: 2024-01-27\n",
      "The file C:/Users/camil/Desktop/prueba_tecnica_lulo/json/data_2024-01-27.json was delete.\n",
      "Datos almacenados en C:/Users/camil/Desktop/prueba_tecnica_lulo/json/data_2024-01-27.json\n",
      "Getting the data to: 2024-01-28\n",
      "The file C:/Users/camil/Desktop/prueba_tecnica_lulo/json/data_2024-01-28.json was delete.\n",
      "Datos almacenados en C:/Users/camil/Desktop/prueba_tecnica_lulo/json/data_2024-01-28.json\n",
      "Getting the data to: 2024-01-29\n",
      "The file C:/Users/camil/Desktop/prueba_tecnica_lulo/json/data_2024-01-29.json was delete.\n",
      "Datos almacenados en C:/Users/camil/Desktop/prueba_tecnica_lulo/json/data_2024-01-29.json\n",
      "Getting the data to: 2024-01-30\n",
      "The file C:/Users/camil/Desktop/prueba_tecnica_lulo/json/data_2024-01-30.json was delete.\n",
      "Datos almacenados en C:/Users/camil/Desktop/prueba_tecnica_lulo/json/data_2024-01-30.json\n",
      "Getting the data to: 2024-01-31\n",
      "The file C:/Users/camil/Desktop/prueba_tecnica_lulo/json/data_2024-01-31.json was delete.\n",
      "Datos almacenados en C:/Users/camil/Desktop/prueba_tecnica_lulo/json/data_2024-01-31.json\n"
     ]
    }
   ],
   "source": [
    "#Data Range\n",
    "end_date = datetime(2024, 1, 31) \n",
    "initial_date = datetime(2024, 1, 1)\n",
    "actual_date = initial_date\n",
    "url = \"http://api.tvmaze.com/schedule/web?date=\"\n",
    "archivo = 'ejemplo.json'\n",
    "\n",
    "\n",
    "list_data = []\n",
    "\n",
    "while actual_date <= end_date:\n",
    "    date_str = actual_date.strftime('%Y-%m-%d')  #YYYY-MM-DD\n",
    "    path_file = f'C:/Users/camil/Desktop/prueba_tecnica_lulo/json/data_{date_str}.json'\n",
    "    print(f\"Getting the data to: {date_str}\")\n",
    "\n",
    "    data = Get_data_dates(url,date_str)\n",
    "\n",
    "    if data:\n",
    "        list_data.extend(data)\n",
    "        Verify_file_exist(path_file)\n",
    "        Save_json(data,path_file)\n",
    "\n",
    "    actual_date += timedelta(days=1)\n",
    "\n"
   ]
  },
  {
   "cell_type": "code",
   "execution_count": null,
   "metadata": {},
   "outputs": [
    {
     "data": {
      "text/plain": [
       "4807"
      ]
     },
     "execution_count": 22,
     "metadata": {},
     "output_type": "execute_result"
    }
   ],
   "source": []
  }
 ],
 "metadata": {
  "kernelspec": {
   "display_name": "Python 3",
   "language": "python",
   "name": "python3"
  },
  "language_info": {
   "codemirror_mode": {
    "name": "ipython",
    "version": 3
   },
   "file_extension": ".py",
   "mimetype": "text/x-python",
   "name": "python",
   "nbconvert_exporter": "python",
   "pygments_lexer": "ipython3",
   "version": "3.9.5"
  }
 },
 "nbformat": 4,
 "nbformat_minor": 2
}
