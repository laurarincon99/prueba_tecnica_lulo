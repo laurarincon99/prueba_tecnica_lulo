{
 "cells": [
  {
   "cell_type": "markdown",
   "metadata": {},
   "source": [
    "## Pruebas Unitarias"
   ]
  },
  {
   "cell_type": "code",
   "execution_count": 2,
   "metadata": {},
   "outputs": [],
   "source": [
    "#!pip install unittest"
   ]
  },
  {
   "cell_type": "code",
   "execution_count": null,
   "metadata": {},
   "outputs": [],
   "source": [
    "import unittest"
   ]
  },
  {
   "cell_type": "code",
   "execution_count": null,
   "metadata": {},
   "outputs": [],
   "source": [
    "from prueba_tecnica import Links_dataframe, links_episodes_df"
   ]
  },
  {
   "cell_type": "code",
   "execution_count": null,
   "metadata": {},
   "outputs": [],
   "source": [
    "class TestLinksDataFrame(unittest.TestCase):\n",
    "    def test_links_dataframe(self):\n",
    "        dic_data = {\n",
    "            'self': {'href': 'https://api.tvmaze.com/episodes/2730586'},\n",
    "            'show': {'href': 'https://api.tvmaze.com/shows/51908', 'name': 'Нежность'}\n",
    "        }\n",
    "        id = 2730586\n",
    "        row = 0\n",
    "\n",
    "        Links_dataframe(dic_data, id, row)\n",
    "\n",
    "        self.assertEqual(links_episodes_df.loc[row, 'id_episodes'], id)\n",
    "        self.assertEqual(links_episodes_df.loc[row, 'id_index'], row + 1)\n",
    "        self.assertEqual(links_episodes_df.loc[row, 'self_href'], 'https://example.com/self')\n",
    "        self.assertEqual(links_episodes_df.loc[row, 'show_href'], 'https://example.com/show')\n",
    "        self.assertEqual(links_episodes_df.loc[row, 'show_name'], 'Example Show')\n",
    "\n",
    "if __name__ == '__main__':\n",
    "    unittest.main()"
   ]
  }
 ],
 "metadata": {
  "kernelspec": {
   "display_name": "Python 3",
   "language": "python",
   "name": "python3"
  },
  "language_info": {
   "codemirror_mode": {
    "name": "ipython",
    "version": 3
   },
   "file_extension": ".py",
   "mimetype": "text/x-python",
   "name": "python",
   "nbconvert_exporter": "python",
   "pygments_lexer": "ipython3",
   "version": "3.9.5"
  }
 },
 "nbformat": 4,
 "nbformat_minor": 2
}
